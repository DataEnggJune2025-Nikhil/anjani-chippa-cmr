{
  "nbformat": 4,
  "nbformat_minor": 0,
  "metadata": {
    "colab": {
      "provenance": []
    },
    "kernelspec": {
      "name": "python3",
      "display_name": "Python 3"
    },
    "language_info": {
      "name": "python"
    }
  },
  "cells": [
    {
      "cell_type": "code",
      "execution_count": null,
      "metadata": {
        "colab": {
          "base_uri": "https://localhost:8080/"
        },
        "id": "26gU3nqiyVzC",
        "outputId": "9660c7bf-8fdd-4d23-8619-38dbfde0b859"
      },
      "outputs": [
        {
          "output_type": "stream",
          "name": "stdout",
          "text": [
            "Hello world!\n"
          ]
        }
      ],
      "source": [
        "print (\"Hello world!\")"
      ]
    },
    {
      "cell_type": "code",
      "source": [
        "a= input(\"enter a name :\")\n",
        "print(a)"
      ],
      "metadata": {
        "id": "_KU4Vgire6By",
        "colab": {
          "base_uri": "https://localhost:8080/"
        },
        "outputId": "90842281-bab5-4893-e9b2-9e30e4160114"
      },
      "execution_count": 2,
      "outputs": [
        {
          "output_type": "stream",
          "name": "stdout",
          "text": [
            "enter a name :anju\n",
            "anju\n"
          ]
        }
      ]
    },
    {
      "cell_type": "code",
      "source": [
        "num=int(input(\"enter a number:\"))\n",
        "if num>0:\n",
        "  print(\"it is positive\",num)\n",
        "elif num<0:\n",
        "    print(\"it is negative\",num)\n",
        "elif num ==0:\n",
        "  print(\"it is zero\",num)\n"
      ],
      "metadata": {
        "colab": {
          "base_uri": "https://localhost:8080/"
        },
        "id": "SZhG4eYTb2NF",
        "outputId": "8fea83f9-4ed2-4bf0-846c-3f817fb70666"
      },
      "execution_count": 4,
      "outputs": [
        {
          "output_type": "stream",
          "name": "stdout",
          "text": [
            "enter a number:4\n",
            "it is positive 4\n"
          ]
        }
      ]
    },
    {
      "cell_type": "code",
      "source": [
        "a,b,c= input(\"enter a number\").split()\n",
        "'''print(\"the firt value is :\",a)\n",
        "print(\"the firt value is :\",b)\n",
        "print(\"the firt value is :\",c)\n",
        "\n",
        "#b=int(input(\"enter a number\"))\n",
        "#c=int(input(\"enter a number\"))'''\n",
        "\n",
        "result=print(\"the largest number is :\",max(a,b,c))"
      ],
      "metadata": {
        "colab": {
          "base_uri": "https://localhost:8080/"
        },
        "id": "8GVPdNo2Lf7p",
        "outputId": "d54f7657-2dc6-44e7-c21f-b48e0a051700"
      },
      "execution_count": 7,
      "outputs": [
        {
          "output_type": "stream",
          "name": "stdout",
          "text": [
            "enter a number45 54 65\n",
            "the largest number is : 65\n"
          ]
        }
      ]
    },
    {
      "cell_type": "code",
      "source": [
        "num = int(input(\"Enter a number: \"))\n",
        "fact = 1\n",
        "\n",
        "for i in range(1, num + 1):\n",
        "    fact *= i\n",
        "\n",
        "print(\"Factorial is:\", fact)\n"
      ],
      "metadata": {
        "colab": {
          "base_uri": "https://localhost:8080/"
        },
        "id": "4dXTMwsONLCH",
        "outputId": "65944fcf-a82f-4ca8-ee19-a0074e6a6e40"
      },
      "execution_count": 8,
      "outputs": [
        {
          "output_type": "stream",
          "name": "stdout",
          "text": [
            "Enter a number: 5\n",
            "Factorial is: 120\n"
          ]
        }
      ]
    },
    {
      "cell_type": "markdown",
      "source": [
        "variables and data types"
      ],
      "metadata": {
        "id": "IkYu-_DxOHO3"
      }
    },
    {
      "cell_type": "code",
      "source": [
        "a = 5\n",
        "b = 4.0\n",
        "c = 'anju'\n",
        "d = True\n",
        "print(\"the type is :\",type(a))\n",
        "print(\"the type is :\",type(b))\n",
        "print(\"the type is :\",type(c))\n",
        "print(\"the type is :\",type(d))"
      ],
      "metadata": {
        "colab": {
          "base_uri": "https://localhost:8080/"
        },
        "id": "hUq4gNxKOMei",
        "outputId": "13d652ec-f4eb-41e6-b7f4-20669882785e"
      },
      "execution_count": 11,
      "outputs": [
        {
          "output_type": "stream",
          "name": "stdout",
          "text": [
            "the type is : <class 'int'>\n",
            "the type is : <class 'float'>\n",
            "the type is : <class 'str'>\n",
            "the type is : <class 'bool'>\n"
          ]
        }
      ]
    },
    {
      "cell_type": "code",
      "source": [
        "a , b = 4 , 6\n",
        "print(\"before swap the number is:\",b)\n",
        "a, b = b, a\n",
        "print(\"after swap the number is :\",b)"
      ],
      "metadata": {
        "colab": {
          "base_uri": "https://localhost:8080/"
        },
        "id": "vCrgUZpwOtZy",
        "outputId": "7c5a742b-1055-4af5-e358-5417536a245e"
      },
      "execution_count": 16,
      "outputs": [
        {
          "output_type": "stream",
          "name": "stdout",
          "text": [
            "before swap the number is: 6\n",
            "after swap the number is : 4\n"
          ]
        }
      ]
    },
    {
      "cell_type": "code",
      "source": [
        "a = 'anju' + ' chippa'\n",
        "print(\"the result is :\",a)"
      ],
      "metadata": {
        "colab": {
          "base_uri": "https://localhost:8080/"
        },
        "id": "PCARQ8AmPNCN",
        "outputId": "a3f31ce3-9ffa-4ec6-ecc9-e236260d8108"
      },
      "execution_count": 18,
      "outputs": [
        {
          "output_type": "stream",
          "name": "stdout",
          "text": [
            "the result is : anju chippa\n"
          ]
        }
      ]
    },
    {
      "cell_type": "code",
      "source": [
        "a = 10\n",
        "if type(a)== int:\n",
        " print(\"it is an integer type \")\n",
        "else :\n",
        " print(\"it is not an integer\")"
      ],
      "metadata": {
        "colab": {
          "base_uri": "https://localhost:8080/"
        },
        "id": "tIr1JCqXPzfl",
        "outputId": "743daa2b-a7e4-446f-afb0-e704db9f6712"
      },
      "execution_count": 21,
      "outputs": [
        {
          "output_type": "stream",
          "name": "stdout",
          "text": [
            "it is an integer type \n"
          ]
        }
      ]
    },
    {
      "cell_type": "markdown",
      "source": [
        "operators\n"
      ],
      "metadata": {
        "id": "fDxvXnyhQwKy"
      }
    },
    {
      "cell_type": "code",
      "source": [
        "#calculator\n",
        "num1=float(input(\"enter the first number :\"))\n",
        "num2=float(input(\"enter the second number :\"))\n",
        "sum= num1+num2\n",
        "difference = num1-num2\n",
        "product=num1*num2\n",
        "division=num1/num2\n",
        "print(\"sum of this is :\",sum)\n",
        "print(\"the difference is :\",difference)\n",
        "print(\"the product is :\",product)\n",
        "print(\"the division is :\",division)"
      ],
      "metadata": {
        "colab": {
          "base_uri": "https://localhost:8080/"
        },
        "id": "2FuqPjJTqCz1",
        "outputId": "8636cb1f-38ef-4c07-df91-5e1ed9e7fe91"
      },
      "execution_count": 23,
      "outputs": [
        {
          "output_type": "stream",
          "name": "stdout",
          "text": [
            "enter the first number :5\n",
            "enter the second number :4\n",
            "sum of this is : 9.0\n",
            "the difference is : 1.0\n",
            "the product is : 20.0\n",
            "the division is : 1.25\n"
          ]
        }
      ]
    },
    {
      "cell_type": "code",
      "source": [
        "a = 5\n",
        "b = 4\n",
        "\n",
        "print(a==b)\n",
        "print(a!=b)\n",
        "print(a>b)\n",
        "print(a<b)\n"
      ],
      "metadata": {
        "colab": {
          "base_uri": "https://localhost:8080/"
        },
        "id": "Ph_S31oYSKAr",
        "outputId": "8f8b9e50-f316-486e-feec-095a65d6d2f5"
      },
      "execution_count": 27,
      "outputs": [
        {
          "output_type": "stream",
          "name": "stdout",
          "text": [
            "False\n",
            "True\n",
            "True\n",
            "False\n"
          ]
        }
      ]
    },
    {
      "cell_type": "code",
      "source": [
        "a = 10\n",
        "b = 12\n",
        "\n",
        "print(a and b)\n",
        "print(a or b)\n",
        "print(not a)"
      ],
      "metadata": {
        "colab": {
          "base_uri": "https://localhost:8080/"
        },
        "id": "knZyynA6Tlxq",
        "outputId": "19c99737-eaca-4696-8fe9-48be98d4f42d"
      },
      "execution_count": 31,
      "outputs": [
        {
          "output_type": "stream",
          "name": "stdout",
          "text": [
            "12\n",
            "10\n",
            "False\n"
          ]
        }
      ]
    },
    {
      "cell_type": "code",
      "source": [
        "num = float(input(\"enter a number\"))\n",
        "power = num ** 2\n",
        "print('the square is :',power)"
      ],
      "metadata": {
        "colab": {
          "base_uri": "https://localhost:8080/"
        },
        "id": "nHSoZrGFVyon",
        "outputId": "99eedeca-c6a7-4fe8-c7e6-9eb976920d5f"
      },
      "execution_count": 39,
      "outputs": [
        {
          "output_type": "stream",
          "name": "stdout",
          "text": [
            "enter a number4\n",
            "the square is : 16.0\n"
          ]
        }
      ]
    },
    {
      "cell_type": "code",
      "source": [
        "a = float(input('enter a number'))\n",
        "if a%2 == 0:\n",
        "  print('it is even')\n",
        "else:\n",
        "  print(\"it is odd\")"
      ],
      "metadata": {
        "colab": {
          "base_uri": "https://localhost:8080/"
        },
        "id": "Fk81kXCNzu91",
        "outputId": "6103e1d8-d773-4f47-a08e-200e1360033d"
      },
      "execution_count": 43,
      "outputs": [
        {
          "output_type": "stream",
          "name": "stdout",
          "text": [
            "enter a number6\n",
            "it is even\n"
          ]
        }
      ]
    },
    {
      "cell_type": "code",
      "source": [
        "n = int(input(\"Enter a number: \"))\n",
        "sum_n = n * (n + 1) // 2\n",
        "print(\"Sum is:\", sum_n)\n",
        "\n",
        ""
      ],
      "metadata": {
        "colab": {
          "base_uri": "https://localhost:8080/"
        },
        "id": "SnpuB2kF4pnl",
        "outputId": "4f539cf6-a974-415d-9461-49f9c804a5bf"
      },
      "execution_count": 44,
      "outputs": [
        {
          "output_type": "stream",
          "name": "stdout",
          "text": [
            "Enter a number: 6\n",
            "Sum is: 21\n"
          ]
        }
      ]
    },
    {
      "cell_type": "code",
      "source": [
        "year = int(input(\"Enter a year: \"))\n",
        "\n",
        "if (year % 4 == 0 and year % 100 != 0) or (year % 400 == 0):\n",
        "    print(\"Leap year\")\n",
        "else:\n",
        "    print(\"Not a leap year\")\n"
      ],
      "metadata": {
        "id": "ilPfvsFTbjkP",
        "outputId": "dd9ddc67-d7b4-4929-bb31-5f1df23fb899",
        "colab": {
          "base_uri": "https://localhost:8080/"
        }
      },
      "execution_count": 45,
      "outputs": [
        {
          "output_type": "stream",
          "name": "stdout",
          "text": [
            "Enter a year: 2023\n",
            "Not a leap year\n"
          ]
        }
      ]
    },
    {
      "cell_type": "code",
      "source": [
        "name = input('enter a name')\n",
        "reverse_A = name[::-1]\n",
        "print(\"the reverese string is \",reverse_A)"
      ],
      "metadata": {
        "id": "BfX_iq8Tb4p7",
        "outputId": "7bc9513e-4794-415d-dcda-5cdaa74db276",
        "colab": {
          "base_uri": "https://localhost:8080/"
        }
      },
      "execution_count": 51,
      "outputs": [
        {
          "output_type": "stream",
          "name": "stdout",
          "text": [
            "enter a nameANJU\n",
            "the reverese string is  UJNA\n"
          ]
        }
      ]
    },
    {
      "cell_type": "code",
      "source": [
        "a = input(\"Enter a string: \")\n",
        "if a == a[::-1]:\n",
        "  print(\"its a palindrome\")\n",
        "else :\n",
        "  print('it is not a palindrome')\n"
      ],
      "metadata": {
        "id": "MyyGXMGccZHt",
        "outputId": "7e18f102-0b3d-42ef-f10b-fcc54bb820d6",
        "colab": {
          "base_uri": "https://localhost:8080/"
        }
      },
      "execution_count": 53,
      "outputs": [
        {
          "output_type": "stream",
          "name": "stdout",
          "text": [
            "Enter a string: mom\n",
            "its a palindrome\n"
          ]
        }
      ]
    },
    {
      "cell_type": "code",
      "source": [
        "a=[7,2,1,4,9,6,3,8]\n",
        "a.sort()\n",
        "print(a)"
      ],
      "metadata": {
        "id": "7cxCioKadhf1",
        "outputId": "ecd203ca-6ad9-4345-f1eb-5577c85d4029",
        "colab": {
          "base_uri": "https://localhost:8080/"
        }
      },
      "execution_count": 56,
      "outputs": [
        {
          "output_type": "stream",
          "name": "stdout",
          "text": [
            "[1, 2, 3, 4, 6, 7, 8, 9]\n"
          ]
        }
      ]
    }
  ]
}